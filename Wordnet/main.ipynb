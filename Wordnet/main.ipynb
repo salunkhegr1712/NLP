{
 "cells": [
  {
   "cell_type": "code",
   "execution_count": 3,
   "metadata": {},
   "outputs": [],
   "source": [
    "from nltk.corpus import wordnet;"
   ]
  },
  {
   "cell_type": "code",
   "execution_count": 7,
   "metadata": {},
   "outputs": [],
   "source": [
    "import nltk "
   ]
  },
  {
   "cell_type": "code",
   "execution_count": 11,
   "metadata": {},
   "outputs": [
    {
     "name": "stderr",
     "output_type": "stream",
     "text": [
      "[nltk_data] Downloading package omw-1.4 to /home/ghansham/nltk_data...\n",
      "[nltk_data]   Package omw-1.4 is already up-to-date!\n"
     ]
    },
    {
     "data": {
      "text/plain": [
       "True"
      ]
     },
     "execution_count": 11,
     "metadata": {},
     "output_type": "execute_result"
    }
   ],
   "source": [
    "# wordnet is one of the corpus inside the nlp package \n",
    "# nltk.download('wordnet')\n",
    "nltk.download('omw-1.4')"
   ]
  },
  {
   "cell_type": "code",
   "execution_count": 13,
   "metadata": {},
   "outputs": [
    {
     "data": {
      "text/plain": [
       "[Synset('dog.n.01'),\n",
       " Synset('frump.n.01'),\n",
       " Synset('dog.n.03'),\n",
       " Synset('cad.n.01'),\n",
       " Synset('frank.n.02'),\n",
       " Synset('pawl.n.01'),\n",
       " Synset('andiron.n.01'),\n",
       " Synset('chase.v.01')]"
      ]
     },
     "execution_count": 13,
     "metadata": {},
     "output_type": "execute_result"
    }
   ],
   "source": [
    "wordnet.synset(\"dog\")"
   ]
  },
  {
   "cell_type": "code",
   "execution_count": 31,
   "metadata": {},
   "outputs": [],
   "source": [
    "# lets see the similar elements to a word in wordnet \n",
    "z=wordnet.synsets(\"back\")"
   ]
  },
  {
   "cell_type": "code",
   "execution_count": 33,
   "metadata": {},
   "outputs": [
    {
     "data": {
      "text/plain": [
       "[Synset('back.n.01'),\n",
       " Synset('rear.n.05'),\n",
       " Synset('back.n.03'),\n",
       " Synset('back.n.04'),\n",
       " Synset('spinal_column.n.01'),\n",
       " Synset('binding.n.05'),\n",
       " Synset('back.n.07'),\n",
       " Synset('back.n.08'),\n",
       " Synset('back.n.09')]"
      ]
     },
     "execution_count": 33,
     "metadata": {},
     "output_type": "execute_result"
    }
   ],
   "source": [
    "# so let us see the word but we want see where word acts like perticular pos\n",
    "wordnet.synsets(\"back\",pos=wordnet.NOUN)"
   ]
  },
  {
   "cell_type": "code",
   "execution_count": 56,
   "metadata": {},
   "outputs": [
    {
     "data": {
      "text/plain": [
       "Synset('back.n.01')"
      ]
     },
     "execution_count": 56,
     "metadata": {},
     "output_type": "execute_result"
    }
   ],
   "source": [
    "# so lets go further perticular for that we use \n",
    "# synset singular form of synsets \n",
    "# wordnet.synset('dog.n.02')\n",
    "wordnet.synset(\"back.n.01\")\n"
   ]
  },
  {
   "cell_type": "code",
   "execution_count": 81,
   "metadata": {},
   "outputs": [
    {
     "data": {
      "text/plain": [
       "nltk.corpus.reader.wordnet.Synset"
      ]
     },
     "execution_count": 81,
     "metadata": {},
     "output_type": "execute_result"
    }
   ],
   "source": [
    "a=wordnet.synset(\"dog.n.01\")\n",
    "type(a)"
   ]
  },
  {
   "cell_type": "code",
   "execution_count": 82,
   "metadata": {},
   "outputs": [
    {
     "data": {
      "text/plain": [
       "'a member of the genus Canis (probably descended from the common wolf) that has been domesticated by man since prehistoric times; occurs in many breeds'"
      ]
     },
     "execution_count": 82,
     "metadata": {},
     "output_type": "execute_result"
    }
   ],
   "source": [
    "# lets see some of the function which we can apply on synset object \n",
    "# defination function will give us the defination of word \n",
    "a.definition()"
   ]
  },
  {
   "cell_type": "code",
   "execution_count": 89,
   "metadata": {},
   "outputs": [
    {
     "name": "stdout",
     "output_type": "stream",
     "text": [
      "noun.animal\n",
      "noun.person\n",
      "noun.food\n",
      "a smooth-textured sausage of minced beef or pork usually smoked; often served on a bread roll\n"
     ]
    }
   ],
   "source": [
    "# lexname will give the reference about the pos and for whom word is used  \n",
    "a=wordnet.synset(\"dog.n.01\")\n",
    "print(a.lexname())\n",
    "a=wordnet.synset(\"dog.n.02\")\n",
    "print(a.lexname())\n",
    "a=wordnet.synset(\"dog.n.05\") #hot dog \n",
    "print(a.lexname())\n",
    "print(a.definition())"
   ]
  },
  {
   "cell_type": "code",
   "execution_count": 103,
   "metadata": {},
   "outputs": [
    {
     "name": "stdout",
     "output_type": "stream",
     "text": [
      "for dog.n.01\n",
      "['dog', 'domestic_dog', 'Canis_familiaris'] \n",
      "\n",
      "for dog.n.02\n",
      "['frump', 'dog']\n"
     ]
    }
   ],
   "source": [
    "# lemma_names() will print the words related to that meaning of word \n",
    "a=wordnet.synset(\"dog.n.01\")\n",
    "\n",
    "# function lemma will return lemma object for words \n",
    "# print(a.lemmas())\n",
    "\n",
    "# function lemma_names will return the list of the words which are taken from\n",
    "# that perticular meaning of the word \n",
    "print(\"for dog.n.01\")\n",
    "print(a.lemma_names(),\"\\n\")\n",
    "\n",
    "\n",
    "# for each meaning we will get different set of lemmas \n",
    "a=wordnet.synset(\"dog.n.02\")\n",
    "# print(a.lemmas())\n",
    "print(\"for dog.n.02\")\n",
    "print(a.lemma_names())"
   ]
  },
  {
   "cell_type": "code",
   "execution_count": null,
   "metadata": {},
   "outputs": [],
   "source": []
  }
 ],
 "metadata": {
  "kernelspec": {
   "display_name": "Python 3.10.6 64-bit",
   "language": "python",
   "name": "python3"
  },
  "language_info": {
   "codemirror_mode": {
    "name": "ipython",
    "version": 3
   },
   "file_extension": ".py",
   "mimetype": "text/x-python",
   "name": "python",
   "nbconvert_exporter": "python",
   "pygments_lexer": "ipython3",
   "version": "3.10.6"
  },
  "orig_nbformat": 4,
  "vscode": {
   "interpreter": {
    "hash": "e7370f93d1d0cde622a1f8e1c04877d8463912d04d973331ad4851f04de6915a"
   }
  }
 },
 "nbformat": 4,
 "nbformat_minor": 2
}
