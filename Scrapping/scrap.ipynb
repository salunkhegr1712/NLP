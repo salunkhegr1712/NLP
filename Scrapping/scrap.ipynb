{
 "cells": [
  {
   "cell_type": "code",
   "execution_count": 1,
   "metadata": {},
   "outputs": [],
   "source": [
    "import requests\n",
    "from bs4 import BeautifulSoup\n",
    "import re"
   ]
  },
  {
   "cell_type": "code",
   "execution_count": 2,
   "metadata": {},
   "outputs": [],
   "source": [
    "def write(filename,corpus):\n",
    "# print(links_dataset)\n",
    "# lines = ['Readme', 'How to write text files in Python']\n",
    "# print(corpus)\n",
    "    with open(filename, 'a') as f:\n",
    "        for i in range(len(corpus)):\n",
    "            f.write(corpus[i])\n",
    "            f.write('\\n')"
   ]
  },
  {
   "cell_type": "code",
   "execution_count": 3,
   "metadata": {},
   "outputs": [],
   "source": [
    "def get_links(htmlBeautified):\n",
    "    l=htmlBeautified.find_all(\"a\");\n",
    "    links_dataset=[]\n",
    "    for i in range(len(l)):\n",
    "        # by using get method we can fetch through the inner attributes of the perticular tag like p a and many more like that \n",
    "        m=str(l[i].get(\"href\"))\n",
    "        if(m[0]=='/'):\n",
    "            links_dataset.append(\"https://www.bbc.com/\"+m)\n",
    "        # if(m[0:5]==\"https\"):\n",
    "        #     links_dataset.append(m)\n",
    "        \n",
    "    return links_dataset\n",
    "    # links_dataset.append(l[i][\"href\"]);\n"
   ]
  },
  {
   "cell_type": "code",
   "execution_count": 4,
   "metadata": {},
   "outputs": [],
   "source": [
    "def beaufity(url):\n",
    "    \n",
    "# requests.get will fetch the website and print the results\n",
    "\n",
    "    r=requests.get(url)\n",
    "    htmlBeautified=BeautifulSoup(r.content,'html.parser')\n",
    "    spans = htmlBeautified.findAll('p')\n",
    "    corpus=[]\n",
    "    if(len(spans)==0):\n",
    "        return\n",
    "    for span in spans: \n",
    "        corpus.append(str(span.get_text())) \n",
    "    \n",
    "    filename=\"ghansham.txt\"\n",
    "    write(filename,corpus)\n",
    "# r.content will provide the content inside the body of returned html code "
   ]
  },
  {
   "cell_type": "code",
   "execution_count": 5,
   "metadata": {},
   "outputs": [
    {
     "data": {
      "text/plain": [
       "70"
      ]
     },
     "execution_count": 5,
     "metadata": {},
     "output_type": "execute_result"
    }
   ],
   "source": [
    "baseUrl=\"https://www.bbc.com/marathi\"\n",
    "r=requests.get(baseUrl)\n",
    "htmlBeautified=BeautifulSoup(r.content,'html.parser')\n",
    "url=get_links(htmlBeautified)\n",
    "url\n",
    "len(url)"
   ]
  },
  {
   "cell_type": "code",
   "execution_count": 6,
   "metadata": {},
   "outputs": [],
   "source": [
    "\n",
    "# htmlBeautified=BeautifulSoup(r.content,'html.parser')\n",
    "    # utt=get_links(htmlBeautified)\n",
    "for i in range(len(url)):\n",
    "    beaufity(url[i])"
   ]
  },
  {
   "cell_type": "code",
   "execution_count": null,
   "metadata": {},
   "outputs": [],
   "source": []
  }
 ],
 "metadata": {
  "kernelspec": {
   "display_name": "Python 3 (ipykernel)",
   "language": "python",
   "name": "python3"
  },
  "language_info": {
   "codemirror_mode": {
    "name": "ipython",
    "version": 3
   },
   "file_extension": ".py",
   "mimetype": "text/x-python",
   "name": "python",
   "nbconvert_exporter": "python",
   "pygments_lexer": "ipython3",
   "version": "3.10.5"
  },
  "orig_nbformat": 4,
  "vscode": {
   "interpreter": {
    "hash": "e7370f93d1d0cde622a1f8e1c04877d8463912d04d973331ad4851f04de6915a"
   }
  }
 },
 "nbformat": 4,
 "nbformat_minor": 2
}
