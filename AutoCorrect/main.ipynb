{
 "cells": [
  {
   "cell_type": "code",
   "execution_count": 180,
   "metadata": {},
   "outputs": [
    {
     "name": "stderr",
     "output_type": "stream",
     "text": [
      "[nltk_data] Downloading package words to /home/ghansham/nltk_data...\n",
      "[nltk_data]   Package words is already up-to-date!\n"
     ]
    }
   ],
   "source": [
    "# nltk stands for the natural language toolkit \n",
    "# it is natural language procesing library \n",
    "import nltk\n",
    "nltk.download(\"words\")\n",
    "from nltk.corpus import words\n"
   ]
  },
  {
   "cell_type": "code",
   "execution_count": 181,
   "metadata": {},
   "outputs": [],
   "source": [
    "import re"
   ]
  },
  {
   "cell_type": "code",
   "execution_count": 182,
   "metadata": {},
   "outputs": [
    {
     "data": {
      "text/plain": [
       "236736"
      ]
     },
     "execution_count": 182,
     "metadata": {},
     "output_type": "execute_result"
    }
   ],
   "source": [
    "setOfWords=words.words()\n",
    "# print(setOfWords)\n",
    "len(setOfWords)"
   ]
  },
  {
   "cell_type": "code",
   "execution_count": 183,
   "metadata": {},
   "outputs": [],
   "source": [
    "def jaccardDistance(l1,l2):\n",
    "    l1=set(l1)\n",
    "    l2=set(l2)\n",
    "    j=l1.intersection(l2)\n",
    "    jaccard=float(len(j)/(len(l1)+len(l2)-len(j)))\n",
    "    return jaccard"
   ]
  },
  {
   "cell_type": "code",
   "execution_count": 184,
   "metadata": {},
   "outputs": [
    {
     "data": {
      "text/plain": [
       "0.75"
      ]
     },
     "execution_count": 184,
     "metadata": {},
     "output_type": "execute_result"
    }
   ],
   "source": [
    "jaccardDistance(\"hello\",\"hell\")"
   ]
  },
  {
   "cell_type": "code",
   "execution_count": 185,
   "metadata": {},
   "outputs": [],
   "source": [
    "mainWord=\"azmaing\";\n",
    "def firstWordChecker(word):\n",
    "    return word[0]==mainWord[0]"
   ]
  },
  {
   "cell_type": "code",
   "execution_count": 186,
   "metadata": {},
   "outputs": [],
   "source": [
    "def wordLength(word):\n",
    "    return len(word)==len(mainWord)"
   ]
  },
  {
   "cell_type": "code",
   "execution_count": 187,
   "metadata": {},
   "outputs": [],
   "source": [
    "def findWords(word):\n",
    "    matchingWords=list(filter(wordLength,setOfWords))\n",
    "    matchingWords=list(filter(firstWordChecker,matchingWords))\n",
    "    word=set(word)\n",
    "    for i in word:\n",
    "        bit=re.compile(i)\n",
    "        \n",
    "        matchingWords=list(filter(bit.findall,matchingWords))\n",
    "    return matchingWords\n",
    "# print(matchingWords)"
   ]
  },
  {
   "cell_type": "code",
   "execution_count": 188,
   "metadata": {},
   "outputs": [
    {
     "name": "stdout",
     "output_type": "stream",
     "text": [
      "['amazing']\n"
     ]
    }
   ],
   "source": [
    "matches=findWords(\"azmaing\")\n",
    "print(matches)"
   ]
  },
  {
   "cell_type": "code",
   "execution_count": 189,
   "metadata": {},
   "outputs": [
    {
     "name": "stdout",
     "output_type": "stream",
     "text": [
      "[0.0]\n"
     ]
    }
   ],
   "source": [
    "ll=[]\n",
    "for i in matches:\n",
    "    ll.append(jaccardDistance(\"helol\",i)) \n",
    "print(ll)\n",
    "# print(matchingWords)"
   ]
  },
  {
   "cell_type": "code",
   "execution_count": 191,
   "metadata": {},
   "outputs": [
    {
     "name": "stdout",
     "output_type": "stream",
     "text": [
      "3\n"
     ]
    }
   ],
   "source": [
    "\n",
    " "
   ]
  }
 ],
 "metadata": {
  "kernelspec": {
   "display_name": "Python 3.10.6 64-bit",
   "language": "python",
   "name": "python3"
  },
  "language_info": {
   "codemirror_mode": {
    "name": "ipython",
    "version": 3
   },
   "file_extension": ".py",
   "mimetype": "text/x-python",
   "name": "python",
   "nbconvert_exporter": "python",
   "pygments_lexer": "ipython3",
   "version": "3.10.6"
  },
  "orig_nbformat": 4,
  "vscode": {
   "interpreter": {
    "hash": "e7370f93d1d0cde622a1f8e1c04877d8463912d04d973331ad4851f04de6915a"
   }
  }
 },
 "nbformat": 4,
 "nbformat_minor": 2
}
