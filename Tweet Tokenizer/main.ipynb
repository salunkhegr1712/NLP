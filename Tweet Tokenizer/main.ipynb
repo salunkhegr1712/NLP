{
 "cells": [
  {
   "cell_type": "code",
   "execution_count": 80,
   "metadata": {},
   "outputs": [],
   "source": [
    "# installing / checking that is nltk is there in the system if not this will install it \n",
    "# pip install nltk"
   ]
  },
  {
   "cell_type": "code",
   "execution_count": 81,
   "metadata": {},
   "outputs": [],
   "source": [
    "# after downloading the nltk we will import it in our system \n",
    "import nltk as nltk"
   ]
  },
  {
   "cell_type": "code",
   "execution_count": 82,
   "metadata": {},
   "outputs": [
    {
     "name": "stdout",
     "output_type": "stream",
     "text": [
      "Output of Read function is \n",
      "24906\n",
      "<class 'str'>\n"
     ]
    }
   ],
   "source": [
    "# getting data from the file to as a string and we will process it further \n",
    "file1 = open(\"Input Dataset.txt\",\"r+\") \n",
    "  \n",
    "print(\"Output of Read function is \")\n",
    "c=file1.read()\n",
    "# print(c)\n",
    "# printing the len of file and the type of after reading through the file \n",
    "print(len(c))\n",
    "print(type(c))"
   ]
  },
  {
   "cell_type": "code",
   "execution_count": 83,
   "metadata": {},
   "outputs": [
    {
     "name": "stderr",
     "output_type": "stream",
     "text": [
      "[nltk_data] Downloading package punkt to /home/ghansham/nltk_data...\n",
      "[nltk_data]   Package punkt is already up-to-date!\n"
     ]
    },
    {
     "data": {
      "text/plain": [
       "True"
      ]
     },
     "execution_count": 83,
     "metadata": {},
     "output_type": "execute_result"
    }
   ],
   "source": [
    "# it is showing error so we download the punkt to avoid this error \n",
    "nltk.download('punkt')"
   ]
  },
  {
   "cell_type": "code",
   "execution_count": 84,
   "metadata": {},
   "outputs": [],
   "source": [
    "# so for your info tokenizer are present inside nltk.tokenize from nltk.tokenize you can get word_tokenize and other tokenizers \n",
    "# on basis of spaces and on basis of spaces tokens are getting created\n",
    "# so as i need the words and the punchuations im using word tokenization\n",
    "from nltk import word_tokenize\n",
    "tokens=word_tokenize(c) # tokenize with word tokenize \n"
   ]
  },
  {
   "cell_type": "code",
   "execution_count": 85,
   "metadata": {},
   "outputs": [
    {
     "name": "stdout",
     "output_type": "stream",
     "text": [
      "5083\n"
     ]
    }
   ],
   "source": [
    "print(len(tokens))\n",
    "# print(tokens)"
   ]
  },
  {
   "cell_type": "code",
   "execution_count": 86,
   "metadata": {},
   "outputs": [],
   "source": [
    "# now importing the tweetTokenizer and then we will process it further \n",
    "from nltk.tokenize import TweetTokenizer\n",
    "tweetTokens=TweetTokenizer(tokens) # this will give a tokenizer object as the result \n",
    "# now convert the tokens into the list or array \n",
    "tweetTokens=tweetTokens.tokenize(c)\n",
    "pass\n",
    "# print(tweetTokens)"
   ]
  },
  {
   "cell_type": "code",
   "execution_count": 87,
   "metadata": {},
   "outputs": [],
   "source": [
    "# now we will search for conflicts words and create a set and then we will fetch them and will find the solution "
   ]
  },
  {
   "cell_type": "code",
   "execution_count": 88,
   "metadata": {},
   "outputs": [
    {
     "data": {
      "text/plain": [
       "[\"It's\",\n",
       " \"It's\",\n",
       " \"it's\",\n",
       " \"we're\",\n",
       " \"we've\",\n",
       " \"i'd've\",\n",
       " \"ain't\",\n",
       " \"shouldn't\",\n",
       " \"i'm\",\n",
       " \"can't\",\n",
       " \"i'm\",\n",
       " \"Can't\",\n",
       " \"Shouldn't\",\n",
       " \"How's\",\n",
       " \"i'd've\",\n",
       " \"i'll\",\n",
       " \"he'd\",\n",
       " \"I'm\",\n",
       " \"don't\",\n",
       " \"didn't\",\n",
       " \"hadn't\",\n",
       " \"it's\",\n",
       " \"can't\",\n",
       " \"It's\",\n",
       " \"Today's\",\n",
       " \"Suprit's\",\n",
       " \"won't\",\n",
       " \"I'd\",\n",
       " \"Today's\",\n",
       " \"I've\",\n",
       " \"He's\",\n",
       " \"it's\",\n",
       " \"It's\",\n",
       " \"Won't\",\n",
       " \"understanding's\",\n",
       " \"you'll\",\n",
       " \"wouldn't\",\n",
       " \"Can't\",\n",
       " \"I'd\",\n",
       " \"I'VE\",\n",
       " \"anyone's\",\n",
       " \"Can't\",\n",
       " \"That's\",\n",
       " \"I'll\",\n",
       " \"I'm\",\n",
       " \"don't\",\n",
       " \"I'm\",\n",
       " \"aren't\",\n",
       " \"can't\",\n",
       " \"I'm\",\n",
       " \"I'm\",\n",
       " \"I'm\",\n",
       " \"it'll\",\n",
       " \"can't\",\n",
       " \"addit'n\",\n",
       " \"We'll\",\n",
       " \"Didn't\",\n",
       " \"I'm\",\n",
       " \"I'll\",\n",
       " \"mobile's\",\n",
       " \"Don't\",\n",
       " \"couldn't\",\n",
       " \"fanboy's\",\n",
       " \"didn't\",\n",
       " \"it's\",\n",
       " \"aren't\",\n",
       " \"I'm\",\n",
       " \"I've\",\n",
       " \"It's\",\n",
       " \"It's\",\n",
       " \"couldn't\",\n",
       " \"won't\",\n",
       " \"mobile's\",\n",
       " \"l'assistenza\",\n",
       " \"doesn't\",\n",
       " \"YOU'RE\",\n",
       " \"Wasn't\",\n",
       " \"that's\",\n",
       " \"It's\",\n",
       " \"It's\",\n",
       " \"helicopter's\",\n",
       " \"won't\",\n",
       " \"can't\",\n",
       " \"It's\",\n",
       " \"didn't\",\n",
       " \"Who's\",\n",
       " \"Can't\",\n",
       " \"didn't\",\n",
       " \"Who's\",\n",
       " \"Can't\",\n",
       " \"don't\"]"
      ]
     },
     "execution_count": 88,
     "metadata": {},
     "output_type": "execute_result"
    }
   ],
   "source": [
    "# code which will give you all conflict words having apostrophy inside them \n",
    "fd=[]\n",
    "for i in tweetTokens:\n",
    "    if \"'\" in i and len(i)>1:\n",
    "        fd.append(i)\n",
    "\n",
    "fd"
   ]
  },
  {
   "cell_type": "code",
   "execution_count": 89,
   "metadata": {},
   "outputs": [
    {
     "data": {
      "text/plain": [
       "'A big thanks to @hhshkmohd for his gracious offer to support people of Kerala during this difficult time. His concern reflects the special ties between governments and people of India and UAE.\\n'"
      ]
     },
     "execution_count": 89,
     "metadata": {},
     "output_type": "execute_result"
    }
   ],
   "source": [
    "# code which gives us the input in the form of oneline at a time \n",
    "with open('Input Dataset.txt') as f:\n",
    "    lines = f.readlines()\n",
    "    \n",
    "lines[0]"
   ]
  },
  {
   "cell_type": "code",
   "execution_count": 90,
   "metadata": {},
   "outputs": [
    {
     "data": {
      "text/plain": [
       "('Ghansham', 'Salunkhe')"
      ]
     },
     "execution_count": 90,
     "metadata": {},
     "output_type": "execute_result"
    }
   ],
   "source": [
    "def split_dash(sm):\n",
    "    a=sm.index(\"-\")\n",
    "    return sm[:a],sm[a+1:]\n",
    "split_dash(\"Ghansham-Salunkhe\")"
   ]
  },
  {
   "cell_type": "code",
   "execution_count": 91,
   "metadata": {},
   "outputs": [
    {
     "name": "stdout",
     "output_type": "stream",
     "text": [
      "('US', 'Japan')\n",
      "('ggsd', 'ah')\n",
      "('US', 'basde')\n",
      "('US', 'based')\n",
      "('US', 'Japan')\n",
      "('15', '7-')\n",
      "('2013', '09-')\n",
      "('US', 'based')\n",
      "('start', 'up')\n",
      "('Indo', 'China')\n",
      "('08', '17-')\n",
      "('2018', '08-')\n",
      "('object', 'oriented')\n",
      "('Object', 'Oriented')\n",
      "('Over', 'view')\n",
      "('PULL', 'UP')\n",
      "('Snap', 'To')\n",
      "('in', 'store')\n",
      "('kick', 'butt')\n",
      "('pre', 'installed')\n",
      "('someday', '-via')\n",
      "('in', 'store')\n",
      "('time', 'traveling')\n",
      "('Work', 'Life')\n",
      "('command', 'line')\n",
      "('python', 'twitter')\n",
      "('python', 'twitter')\n",
      "('command', 'line')\n",
      "('python', 'twitter')\n",
      "('python', 'twitter')\n",
      "('straight', 'from-undergrad')\n",
      "('Public', 'Private')\n",
      "('python', 'twitter')\n"
     ]
    }
   ],
   "source": [
    "# this piece of code will give you word with having seperated by dash \n",
    "gd=[]\n",
    "for i in tweetTokens:\n",
    "    if \"-\" in i and len(i)>1 and i[0:4]!=\"http\" and i.isalpha()==False:\n",
    "        # gd.append(i)\n",
    "        print(split_dash(i))\n",
    "\n",
    "# gd"
   ]
  },
  {
   "cell_type": "code",
   "execution_count": 92,
   "metadata": {},
   "outputs": [
    {
     "data": {
      "text/plain": [
       "['ghansham', 'Rajaram', 'Salunkhe']"
      ]
     },
     "execution_count": 92,
     "metadata": {},
     "output_type": "execute_result"
    }
   ],
   "source": [
    "# Python3 program Split camel case\n",
    "# string to individual strings\n",
    "def camel_case_split(str1):\n",
    "    l=[]\n",
    "    n=0\n",
    "    if (str1.isalpha()):\n",
    "        s=str1[0]\n",
    "        n=n+1\n",
    "    else:\n",
    "        l.append(str1[0])\n",
    "        s=str1[1]\n",
    "        n=2\n",
    "\n",
    "    for i in range(n,len(str1)):\n",
    "        if(str1[i].isupper()):\n",
    "            l.append(s)\n",
    "            s=\"\"\n",
    "        s=s+str1[i]\n",
    "    l.append(s)\n",
    "    return l\n",
    "\n",
    "camel_case_split(\"ghanshamRajaramSalunkhe\")"
   ]
  },
  {
   "cell_type": "code",
   "execution_count": 93,
   "metadata": {},
   "outputs": [],
   "source": [
    "# now we will check for words having camel case or not \n",
    "def checkForCamelCase(s):\n",
    "    return s != s.lower() and s != s.upper() and \"_\" not in s"
   ]
  },
  {
   "cell_type": "code",
   "execution_count": 94,
   "metadata": {},
   "outputs": [],
   "source": [
    "# function to count capital letters inside the character\n",
    "def countUpperCharacters(s,n):\n",
    "    count=0\n",
    "    for i in range(n,len(s)):\n",
    "        if(s[i].isupper()):\n",
    "            count=count+1\n",
    "\n",
    "    return count\n"
   ]
  },
  {
   "cell_type": "code",
   "execution_count": 97,
   "metadata": {},
   "outputs": [
    {
     "name": "stdout",
     "output_type": "stream",
     "text": [
      "['iGuess', '@IndiaCoastGuard', '#KeralaFloods', 'iGuess', 'ToWake', '@asawareeBhide', '#polkaDots', 'HipHappening', '#Burbank', '@DeBruyneKev', '@Madonna', '#RIPAtalBihariVaajpayee', '@suiDhaagafilm', 'iGuess', 'iPhone', '@Apple', '@Apple', 'iPhone', '#watchESPN', 'AppleTV', '@Apple', '@TraceyLiddle', '@Apple', '@Apple', 'iPhone', '#iPhone5C', '@Apple', 'iPhone', '@Apple', 'iPhoto', 'iMovie', 'iWork', 'iPad', '#iPhone5S', '#FingerprintsRecognitom', '#iPhone', '#Apple', '@Apple', '#Concepts', 'MacBooks', '@iBrooklynB', '@Apple', '@Windows', '@Apple', '@Apple', '#iOS7', '@Lafond66', '@Apple', 'iOS', '#iRadio', '@FastCoDesign', '@Apple', '#iPhone', '@iBrooklynB', '@Apple', '#Fell', '#Working', '@Apple', '@Apple', '@Samsung', 'LRWBlog', '#iPhone5s', '@Apple', 'MacBook', 'iPhone', 'iPhone', 'iPhone', '@Apple', '#itunesFestival', '@Apple', '@Microsoft', '@Windows', '@Apple', '@Apple', '#iPhone5S', '#iPhone', '#Apple', '#September20th', 'SLRs', '@FireandIce5935', '@Android', '@Apple', '@Apple', 'CoreMotion', 'iPhone', '@Apple', 'iPhones', 'iPhoto', 'iMovie', '@Apple', 'iPhones', 'iPhoto', 'iMovie', '@Sephora', '@Apple', 'industry.Incredible', '@Apple', '@ScaleBoxApp', '@Apple', '@iTunesMusic', '#Apple', '#iPhone', '#iTunes', '#iPhone5S', '@Apple', 'bPhone', '@Beyonce', '@Apple', 'iPhone', '@Apple', '#TouchID', '@Apple', '#courtsideassistappforiOS', 'iPhone', '@Apple', '#Iphone', '#Touch', '@Apple', '@Apple', '@TheMIXXRadio', '@TheMixxHangout', 'iPhone', '@TheDiMassa', '@Samsung', '@Apple', '@Apple', 'iPhone', '@ScaleBoxApp', '@Apple', '@iTunesMusic', '#Apple', '#iPhone', '#Piano', '#Music', '#OnlyClassical', '#Violin', '@Apple', '@Apple', 'iOS', '@Stratix', '@Apple', '#Tech', '@Apple', '@Samsung', '@Apple', '@BoeingAirplanes', '@Apple', '@iBrooklynB', '@Apple', '@Apple', '#Apple', 'iPhone', '#iOs', 'iPhone', '#Android', '#iPhone', '@Google', '@Apple', 'iPhones', 'iPhone', 'TouchID', '@Apple', 'iPhones', 'iPad', '@Apple', '#iPhone', '@BlakeGrahamPGA', '@BestBuy', '@Apple', 'iPhone', '#California', 'IPhone', '@Apple', '#iPhone', '#iOS7', '@Apple', '#Mobile', '#App', '@Apple', '@Apple', '@iMore', '@Apple', '#iPad', '#iWork', '@Apple', '@Apple', 'iOS', '@Apple', '#iPhone', 'iPhone', '@Nokia', '@Apple', '#WinPhan', '@Jon4Lakers', '@TechnoBuffalo', '@Apple', '@ETCanada', '@Clusocluso', '@Apple', '@Burberry', '#Digitallyperfect', '#Tech', '@Apple', '#iPhone5C', 'iOS', '@Apple', '@Apple', '#Innovation', '@JMLColley', '@Apple', '@TheEspinAlien', '@iBrooklynB', '@Apple', 'iPhone', '#Iphone5c', '@highlyHIGHtori', '@Apple', '#AppleFreak', '@Apple', '@Apple', 'iPhone', 'iPhone', 'iOS', '#iPhone', 'iPhone', '@7evenStarz', '@Apple', '#JonyIve', '#iPhone5c', '@Apple', '@OITHelpDesk', '@Apple', '#iPhone5C', '#Pink', '#ApplePicking', '@Sprint', '@Samsung', '@Apple', '@MissPhilly2013', '@Apple', '#iOS7', '@Apple', 'iPhones', '@7evenStarz', '@Apple', '@Apple', 'iPhone', '#India', '#eBayCheck', '@eBayIndia', '#eBayCheck', '@Apple', 'iPhone', 'iPad', '@Om', '@Apple', 'iPhones', '#iBeacons', '#iOS', '#iPhone', 'iPhones', '@Apple', '@iBrooklynB', '@Apple', '@EllieDash', '@DaveLeeBBC', '@Lexxxzis', '@SuperCoolCube', '@MolecularLove', '@RyanLochte', 'UANews', '#BearDown', '@NatalieCoughlin', '#CDoM', '@RickyBerens', '@PremierDMD', '@AthleticFoodie', 'LinkedIn', '@RyanLochte', 'UANews', '#BearDown', '@NatalieCoughlin', '#CDoM', '@RickyBerens', '@PremierDMD', '@AthleticFoodie', 'LinkedIn', '@TheLeonardLab', 'SportsCenter', '@NatalieCoughlin']\n"
     ]
    }
   ],
   "source": [
    "cc=[]\n",
    "for i in tweetTokens:\n",
    "    if(i[0]==\"@\" or i[0]==\"#\") and checkForCamelCase(i) and countUpperCharacters(i,2) >0 and \"/\" not in i and \"-\" not in i:\n",
    "        cc.append(i)\n",
    "\n",
    "    else:\n",
    "        if checkForCamelCase(i) and countUpperCharacters(i,1) >0 and \"/\" not in i and \"-\" not in i:\n",
    "            cc.append(i)\n",
    "            \n",
    "\n",
    "print(cc)\n"
   ]
  },
  {
   "cell_type": "code",
   "execution_count": 98,
   "metadata": {},
   "outputs": [
    {
     "name": "stdout",
     "output_type": "stream",
     "text": [
      "['i', 'Guess']\n",
      "['@', 'India', 'Coast', 'Guard']\n",
      "['#', 'Kerala', 'Floods']\n",
      "['i', 'Guess']\n",
      "['To', 'Wake']\n",
      "['@', 'asawaree', 'Bhide']\n",
      "['#', 'polka', 'Dots']\n",
      "['Hip', 'Happening']\n",
      "['#', 'Burbank']\n",
      "['@', 'De', 'Bruyne', 'Kev']\n",
      "['@', 'Madonna']\n",
      "['#', 'R', 'I', 'P', 'Atal', 'Bihari', 'Vaajpayee']\n",
      "['@', 'sui', 'Dhaagafilm']\n",
      "['i', 'Guess']\n",
      "['i', 'Phone']\n",
      "['@', 'Apple']\n",
      "['@', 'Apple']\n",
      "['i', 'Phone']\n",
      "['#', 'watch', 'E', 'S', 'P', 'N']\n",
      "['Apple', 'T', 'V']\n",
      "['@', 'Apple']\n",
      "['@', 'Tracey', 'Liddle']\n",
      "['@', 'Apple']\n",
      "['@', 'Apple']\n",
      "['i', 'Phone']\n",
      "['#', 'i', 'Phone5', 'C']\n",
      "['@', 'Apple']\n",
      "['i', 'Phone']\n",
      "['@', 'Apple']\n",
      "['i', 'Photo']\n",
      "['i', 'Movie']\n",
      "['i', 'Work']\n",
      "['i', 'Pad']\n",
      "['#', 'i', 'Phone5', 'S']\n",
      "['#', 'Fingerprints', 'Recognitom']\n",
      "['#', 'i', 'Phone']\n",
      "['#', 'Apple']\n",
      "['@', 'Apple']\n",
      "['#', 'Concepts']\n",
      "['Mac', 'Books']\n",
      "['@', 'i', 'Brooklyn', 'B']\n",
      "['@', 'Apple']\n",
      "['@', 'Windows']\n",
      "['@', 'Apple']\n",
      "['@', 'Apple']\n",
      "['#', 'i', 'O', 'S7']\n",
      "['@', 'Lafond66']\n",
      "['@', 'Apple']\n",
      "['i', 'O', 'S']\n",
      "['#', 'i', 'Radio']\n",
      "['@', 'Fast', 'Co', 'Design']\n",
      "['@', 'Apple']\n",
      "['#', 'i', 'Phone']\n",
      "['@', 'i', 'Brooklyn', 'B']\n",
      "['@', 'Apple']\n",
      "['#', 'Fell']\n",
      "['#', 'Working']\n",
      "['@', 'Apple']\n",
      "['@', 'Apple']\n",
      "['@', 'Samsung']\n",
      "['L', 'R', 'W', 'Blog']\n",
      "['#', 'i', 'Phone5s']\n",
      "['@', 'Apple']\n",
      "['Mac', 'Book']\n",
      "['i', 'Phone']\n",
      "['i', 'Phone']\n",
      "['i', 'Phone']\n",
      "['@', 'Apple']\n",
      "['#', 'itunes', 'Festival']\n",
      "['@', 'Apple']\n",
      "['@', 'Microsoft']\n",
      "['@', 'Windows']\n",
      "['@', 'Apple']\n",
      "['@', 'Apple']\n",
      "['#', 'i', 'Phone5', 'S']\n",
      "['#', 'i', 'Phone']\n",
      "['#', 'Apple']\n",
      "['#', 'September20th']\n",
      "['S', 'L', 'Rs']\n",
      "['@', 'Fireand', 'Ice5935']\n",
      "['@', 'Android']\n",
      "['@', 'Apple']\n",
      "['@', 'Apple']\n",
      "['Core', 'Motion']\n",
      "['i', 'Phone']\n",
      "['@', 'Apple']\n",
      "['i', 'Phones']\n",
      "['i', 'Photo']\n",
      "['i', 'Movie']\n",
      "['@', 'Apple']\n",
      "['i', 'Phones']\n",
      "['i', 'Photo']\n",
      "['i', 'Movie']\n",
      "['@', 'Sephora']\n",
      "['@', 'Apple']\n",
      "['i', 'ndustry.', 'Incredible']\n",
      "['@', 'Apple']\n",
      "['@', 'Scale', 'Box', 'App']\n",
      "['@', 'Apple']\n",
      "['@', 'i', 'Tunes', 'Music']\n",
      "['#', 'Apple']\n",
      "['#', 'i', 'Phone']\n",
      "['#', 'i', 'Tunes']\n",
      "['#', 'i', 'Phone5', 'S']\n",
      "['@', 'Apple']\n",
      "['b', 'Phone']\n",
      "['@', 'Beyonce']\n",
      "['@', 'Apple']\n",
      "['i', 'Phone']\n",
      "['@', 'Apple']\n",
      "['#', 'Touch', 'I', 'D']\n",
      "['@', 'Apple']\n",
      "['#', 'courtsideassistappfori', 'O', 'S']\n",
      "['i', 'Phone']\n",
      "['@', 'Apple']\n",
      "['#', 'Iphone']\n",
      "['#', 'Touch']\n",
      "['@', 'Apple']\n",
      "['@', 'Apple']\n",
      "['@', 'The', 'M', 'I', 'X', 'X', 'Radio']\n",
      "['@', 'The', 'Mixx', 'Hangout']\n",
      "['i', 'Phone']\n",
      "['@', 'The', 'Di', 'Massa']\n",
      "['@', 'Samsung']\n",
      "['@', 'Apple']\n",
      "['@', 'Apple']\n",
      "['i', 'Phone']\n",
      "['@', 'Scale', 'Box', 'App']\n",
      "['@', 'Apple']\n",
      "['@', 'i', 'Tunes', 'Music']\n",
      "['#', 'Apple']\n",
      "['#', 'i', 'Phone']\n",
      "['#', 'Piano']\n",
      "['#', 'Music']\n",
      "['#', 'Only', 'Classical']\n",
      "['#', 'Violin']\n",
      "['@', 'Apple']\n",
      "['@', 'Apple']\n",
      "['i', 'O', 'S']\n",
      "['@', 'Stratix']\n",
      "['@', 'Apple']\n",
      "['#', 'Tech']\n",
      "['@', 'Apple']\n",
      "['@', 'Samsung']\n",
      "['@', 'Apple']\n",
      "['@', 'Boeing', 'Airplanes']\n",
      "['@', 'Apple']\n",
      "['@', 'i', 'Brooklyn', 'B']\n",
      "['@', 'Apple']\n",
      "['@', 'Apple']\n",
      "['#', 'Apple']\n",
      "['i', 'Phone']\n",
      "['#', 'i', 'Os']\n",
      "['i', 'Phone']\n",
      "['#', 'Android']\n",
      "['#', 'i', 'Phone']\n",
      "['@', 'Google']\n",
      "['@', 'Apple']\n",
      "['i', 'Phones']\n",
      "['i', 'Phone']\n",
      "['Touch', 'I', 'D']\n",
      "['@', 'Apple']\n",
      "['i', 'Phones']\n",
      "['i', 'Pad']\n",
      "['@', 'Apple']\n",
      "['#', 'i', 'Phone']\n",
      "['@', 'Blake', 'Graham', 'P', 'G', 'A']\n",
      "['@', 'Best', 'Buy']\n",
      "['@', 'Apple']\n",
      "['i', 'Phone']\n",
      "['#', 'California']\n",
      "['I', 'Phone']\n",
      "['@', 'Apple']\n",
      "['#', 'i', 'Phone']\n",
      "['#', 'i', 'O', 'S7']\n",
      "['@', 'Apple']\n",
      "['#', 'Mobile']\n",
      "['#', 'App']\n",
      "['@', 'Apple']\n",
      "['@', 'Apple']\n",
      "['@', 'i', 'More']\n",
      "['@', 'Apple']\n",
      "['#', 'i', 'Pad']\n",
      "['#', 'i', 'Work']\n",
      "['@', 'Apple']\n",
      "['@', 'Apple']\n",
      "['i', 'O', 'S']\n",
      "['@', 'Apple']\n",
      "['#', 'i', 'Phone']\n",
      "['i', 'Phone']\n",
      "['@', 'Nokia']\n",
      "['@', 'Apple']\n",
      "['#', 'Win', 'Phan']\n",
      "['@', 'Jon4', 'Lakers']\n",
      "['@', 'Techno', 'Buffalo']\n",
      "['@', 'Apple']\n",
      "['@', 'E', 'T', 'Canada']\n",
      "['@', 'Clusocluso']\n",
      "['@', 'Apple']\n",
      "['@', 'Burberry']\n",
      "['#', 'Digitallyperfect']\n",
      "['#', 'Tech']\n",
      "['@', 'Apple']\n",
      "['#', 'i', 'Phone5', 'C']\n",
      "['i', 'O', 'S']\n",
      "['@', 'Apple']\n",
      "['@', 'Apple']\n",
      "['#', 'Innovation']\n",
      "['@', 'J', 'M', 'L', 'Colley']\n",
      "['@', 'Apple']\n",
      "['@', 'The', 'Espin', 'Alien']\n",
      "['@', 'i', 'Brooklyn', 'B']\n",
      "['@', 'Apple']\n",
      "['i', 'Phone']\n",
      "['#', 'Iphone5c']\n",
      "['@', 'highly', 'H', 'I', 'G', 'Htori']\n",
      "['@', 'Apple']\n",
      "['#', 'Apple', 'Freak']\n",
      "['@', 'Apple']\n",
      "['@', 'Apple']\n",
      "['i', 'Phone']\n",
      "['i', 'Phone']\n",
      "['i', 'O', 'S']\n",
      "['#', 'i', 'Phone']\n",
      "['i', 'Phone']\n",
      "['@', '7even', 'Starz']\n",
      "['@', 'Apple']\n",
      "['#', 'Jony', 'Ive']\n",
      "['#', 'i', 'Phone5c']\n",
      "['@', 'Apple']\n",
      "['@', 'O', 'I', 'T', 'Help', 'Desk']\n",
      "['@', 'Apple']\n",
      "['#', 'i', 'Phone5', 'C']\n",
      "['#', 'Pink']\n",
      "['#', 'Apple', 'Picking']\n",
      "['@', 'Sprint']\n",
      "['@', 'Samsung']\n",
      "['@', 'Apple']\n",
      "['@', 'Miss', 'Philly2013']\n",
      "['@', 'Apple']\n",
      "['#', 'i', 'O', 'S7']\n",
      "['@', 'Apple']\n",
      "['i', 'Phones']\n",
      "['@', '7even', 'Starz']\n",
      "['@', 'Apple']\n",
      "['@', 'Apple']\n",
      "['i', 'Phone']\n",
      "['#', 'India']\n",
      "['#', 'e', 'Bay', 'Check']\n",
      "['@', 'e', 'Bay', 'India']\n",
      "['#', 'e', 'Bay', 'Check']\n",
      "['@', 'Apple']\n",
      "['i', 'Phone']\n",
      "['i', 'Pad']\n",
      "['@', 'Om']\n",
      "['@', 'Apple']\n",
      "['i', 'Phones']\n",
      "['#', 'i', 'Beacons']\n",
      "['#', 'i', 'O', 'S']\n",
      "['#', 'i', 'Phone']\n",
      "['i', 'Phones']\n",
      "['@', 'Apple']\n",
      "['@', 'i', 'Brooklyn', 'B']\n",
      "['@', 'Apple']\n",
      "['@', 'Ellie', 'Dash']\n",
      "['@', 'Dave', 'Lee', 'B', 'B', 'C']\n",
      "['@', 'Lexxxzis']\n",
      "['@', 'Super', 'Cool', 'Cube']\n",
      "['@', 'Molecular', 'Love']\n",
      "['@', 'Ryan', 'Lochte']\n",
      "['U', 'A', 'News']\n",
      "['#', 'Bear', 'Down']\n",
      "['@', 'Natalie', 'Coughlin']\n",
      "['#', 'C', 'Do', 'M']\n",
      "['@', 'Ricky', 'Berens']\n",
      "['@', 'Premier', 'D', 'M', 'D']\n",
      "['@', 'Athletic', 'Foodie']\n",
      "['Linked', 'In']\n",
      "['@', 'Ryan', 'Lochte']\n",
      "['U', 'A', 'News']\n",
      "['#', 'Bear', 'Down']\n",
      "['@', 'Natalie', 'Coughlin']\n",
      "['#', 'C', 'Do', 'M']\n",
      "['@', 'Ricky', 'Berens']\n",
      "['@', 'Premier', 'D', 'M', 'D']\n",
      "['@', 'Athletic', 'Foodie']\n",
      "['Linked', 'In']\n",
      "['@', 'The', 'Leonard', 'Lab']\n",
      "['Sports', 'Center']\n",
      "['@', 'Natalie', 'Coughlin']\n"
     ]
    }
   ],
   "source": [
    "for i in cc:\n",
    "    print(camel_case_split(i))"
   ]
  }
 ],
 "metadata": {
  "kernelspec": {
   "display_name": "Python 3 (ipykernel)",
   "language": "python",
   "name": "python3"
  },
  "language_info": {
   "codemirror_mode": {
    "name": "ipython",
    "version": 3
   },
   "file_extension": ".py",
   "mimetype": "text/x-python",
   "name": "python",
   "nbconvert_exporter": "python",
   "pygments_lexer": "ipython3",
   "version": "3.10.5"
  },
  "orig_nbformat": 4
 },
 "nbformat": 4,
 "nbformat_minor": 2
}
