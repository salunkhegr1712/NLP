{
 "cells": [
  {
   "cell_type": "code",
   "execution_count": 349,
   "metadata": {},
   "outputs": [],
   "source": [
    "# here with the help of this function we have to print the rules inside our cfg grammer \n",
    "def stringMaker(l):\n",
    "    s=\"\"\n",
    "    for i in l[1:]:\n",
    "        s=s+\" \" +str(i)\n",
    "    \n",
    "    return f\"{ l[0]} --> \"+s\n",
    "\n",
    "def printRules(l):\n",
    "    for i in l:\n",
    "        print(stringMaker(i))"
   ]
  },
  {
   "cell_type": "code",
   "execution_count": 350,
   "metadata": {},
   "outputs": [
    {
     "name": "stdout",
     "output_type": "stream",
     "text": [
      "S -->  NP VP\n",
      "S -->  X1 VP\n",
      "X1 -->  AUX NP\n",
      "S -->  VERB NP\n",
      "S -->  X2 PP\n",
      "S -->  VERB PP\n",
      "S -->  VP PP\n",
      "NP -->  DET NOMIAL\n",
      "NOMIAL -->  NOMIAL NOUN\n",
      "NOMIAL -->  NOMIAL PP\n",
      "VP -->  VERB NP\n",
      "VP -->  X2 PP\n",
      "X2 -->  VERB NP\n",
      "VP -->  VERB PP\n",
      "VP -->  VP PP\n",
      "PP -->  PREPOSITION NP\n"
     ]
    }
   ],
   "source": [
    "# lets declare some grammer rules such that we can be able to draw sentenses from themselves \n",
    "\n",
    "# firstly there are two types of states and these are terminals and non terminals\n",
    "# non terminals \n",
    "nonTerminals=[\"S\",\"NN\",\"VBP\",\"VP\",\"AUX\",\"\"]\n",
    "\n",
    "# here we are going to use the the list and the tupple in order to store the results and\n",
    "# in further step we also going to print it \n",
    "# here i will store all nonTerminals to nonTerminals rules \n",
    "ntRules=[(\"S\",\"NP\",\"VP\"),(\"S\",\"X1\",'VP'),('X1','AUX','NP'),('S','VERB','NP'),('S','X2','PP'),\n",
    "('S','VERB','PP'),('S','VP','PP'),('NP','DET','NOMIAL'),('NOMIAL','NOMIAL','NOUN'),('NOMIAL','NOMIAL','PP'),\n",
    "('VP','VERB','NP'),('VP','X2','PP'),('X2','VERB','NP'),('VP','VERB','PP'),('VP','VP','PP'),('PP',\"PREPOSITION\",\"NP\")]\n",
    "\n",
    "\n",
    "printRules(ntRules)"
   ]
  },
  {
   "cell_type": "code",
   "execution_count": 351,
   "metadata": {},
   "outputs": [
    {
     "name": "stdout",
     "output_type": "stream",
     "text": [
      "NP -->  i\n",
      "NP -->  she\n",
      "NP -->  me\n",
      "NP -->  twa\n",
      "NP -->  houston\n",
      "NOMIAL -->  book\n",
      "NOMIAL -->  flight\n",
      "NOMIAL -->  meal\n",
      "NOMIAL -->  money\n",
      "VP -->  include\n",
      "VP -->  prefer\n",
      "VP -->  book\n",
      "Det -->  that\n",
      "DET -->  this\n",
      "DET -->  the\n",
      "DET -->  a\n",
      "AUX -->  does\n",
      "PREPOSITION -->  from\n",
      "PREPOSITION -->  near\n",
      "PREPOSITION -->  to\n",
      "PREPOSITION -->  through\n",
      "PREPOSITION -->  on\n"
     ]
    }
   ],
   "source": [
    "\n",
    "tRules=[('NP','i'),('NP',\"she\"),('NP',\"me\"),('NP',\"twa\"),(\"NP\",'houston'),('NOMIAL',\"book\"),('NOMIAL',\"flight\")\n",
    ",('NOMIAL',\"meal\"),('NOMIAL',\"money\"),('VP',\"include\"),('VP',\"prefer\"),(\"VP\",\"book\"),\n",
    "(\"Det\",'that'),('DET','this'),(\"DET\",'the'),(\"DET\",'a'),(\"AUX\",'does'),('PREPOSITION','from'),('PREPOSITION','near')\n",
    ",('PREPOSITION','to'),('PREPOSITION','through'),('PREPOSITION','on')]\n",
    "printRules(tRules)"
   ]
  },
  {
   "cell_type": "code",
   "execution_count": 352,
   "metadata": {},
   "outputs": [],
   "source": [
    "def createMatrix(m):\n",
    "    k=0\n",
    "    l=[]\n",
    "    for i in range(m):\n",
    "        l.append([\"PHI\"]*(m-k))\n",
    "        k=k+1\n",
    "    return l"
   ]
  },
  {
   "cell_type": "code",
   "execution_count": 353,
   "metadata": {},
   "outputs": [],
   "source": [
    "def printMatrix(m):\n",
    "    s=len(m[0])\n",
    "    k=0\n",
    "    for i in m:\n",
    "        print(str(i))\n",
    "        k=k+1"
   ]
  },
  {
   "cell_type": "code",
   "execution_count": 354,
   "metadata": {},
   "outputs": [],
   "source": [
    "def getTerminalRule(word):\n",
    "    k=[]\n",
    "    for i in tRules:\n",
    "        if(i[1]==word):\n",
    "            k.append(i[0])\n",
    "    return k"
   ]
  },
  {
   "cell_type": "code",
   "execution_count": 355,
   "metadata": {},
   "outputs": [],
   "source": [
    "def getNonTerminalRule(a,b):\n",
    "    k=[]\n",
    "    if a==[] or b==[]:\n",
    "        return []\n",
    "    for i in ntRules:\n",
    "        if i[1] in a and i[2] in b:\n",
    "            k.append(i[0])\n",
    "    return k"
   ]
  },
  {
   "cell_type": "code",
   "execution_count": 356,
   "metadata": {},
   "outputs": [],
   "source": [
    "def find(a):\n",
    "    for i in a:\n",
    "        for j in range(len(i)):\n",
    "            if i[j]==\"S\":\n",
    "                return True\n",
    "    return False"
   ]
  },
  {
   "cell_type": "code",
   "execution_count": 357,
   "metadata": {},
   "outputs": [
    {
     "data": {
      "text/plain": [
       "['S', 'VP']"
      ]
     },
     "execution_count": 357,
     "metadata": {},
     "output_type": "execute_result"
    }
   ],
   "source": [
    "getNonTerminalRule(\"VP\",\"PP\")"
   ]
  },
  {
   "cell_type": "code",
   "execution_count": 358,
   "metadata": {},
   "outputs": [],
   "source": [
    "def getNumberedPairs(a,k):\n",
    "    i=int(a[0])\n",
    "    j=int(a[1])\n",
    "    print(i,j)\n",
    "    kk=[]\n",
    "    # printMatrix(k)\n",
    "    for m in range(j):\n",
    "        gg=getNonTerminalRule(k[i][m],k[m+1][j-m-1])\n",
    "        print(k[i][m],k[m+1][j-m-1])\n",
    "    \n",
    "    return kk\n"
   ]
  },
  {
   "cell_type": "code",
   "execution_count": 359,
   "metadata": {},
   "outputs": [],
   "source": [
    "s=\"Book the flight through Houston\"\n",
    "s=s.lower()\n",
    "def cky(s):\n",
    "    gg=s.split(\" \")\n",
    "    print(gg)\n",
    "    kkk=len(gg)\n",
    "    k=createMatrix(len(gg))\n",
    "    printMatrix(k)\n",
    "    m=0\n",
    "    print('')\n",
    "    # assigning initial rules \n",
    "    for i in k:\n",
    "        i[0]=getTerminalRule(gg[m])\n",
    "        m+=1\n",
    "    kkk-=1\n",
    "        # if(k)\n",
    "    printMatrix(k)\n",
    "    \n",
    "    print(\"\")\n",
    "    # for i in range(kkk):\n",
    "\n",
    "    #     k[i][1]=getNonTerminalRule(k[i][0],k[i+1][0])\n",
    "    # # printMatrix(k)\n",
    "    # kkk-=1\n",
    "    for m in range(kkk):\n",
    "        for i in range(kkk):\n",
    "            k[i][kkk-1]=getNumberedPairs(f\"{i}{kkk}\",k)\n",
    "        kkk-=1\n",
    "    printMatrix(k)    \n",
    "    \n",
    "    \n",
    "\n"
   ]
  },
  {
   "cell_type": "code",
   "execution_count": 360,
   "metadata": {},
   "outputs": [
    {
     "name": "stdout",
     "output_type": "stream",
     "text": [
      "['book', 'the', 'flight', 'through', 'houston']\n",
      "['PHI', 'PHI', 'PHI', 'PHI', 'PHI']\n",
      "['PHI', 'PHI', 'PHI', 'PHI']\n",
      "['PHI', 'PHI', 'PHI']\n",
      "['PHI', 'PHI']\n",
      "['PHI']\n",
      "\n",
      "[['NOMIAL', 'VP'], 'PHI', 'PHI', 'PHI', 'PHI']\n",
      "[['DET'], 'PHI', 'PHI', 'PHI']\n",
      "[['NOMIAL'], 'PHI', 'PHI']\n",
      "[['PREPOSITION'], 'PHI']\n",
      "[['NP']]\n",
      "\n",
      "0 4\n",
      "['NOMIAL', 'VP'] PHI\n",
      "PHI PHI\n",
      "PHI PHI\n",
      "PHI ['NP']\n",
      "1 4\n",
      "['DET'] PHI\n",
      "PHI PHI\n",
      "PHI PHI\n",
      "PHI ['NP']\n",
      "2 4\n",
      "['NOMIAL'] []\n",
      "PHI PHI\n",
      "PHI PHI\n"
     ]
    },
    {
     "ename": "IndexError",
     "evalue": "list index out of range",
     "output_type": "error",
     "traceback": [
      "\u001b[0;31m---------------------------------------------------------------------------\u001b[0m",
      "\u001b[0;31mIndexError\u001b[0m                                Traceback (most recent call last)",
      "Cell \u001b[0;32mIn [360], line 1\u001b[0m\n\u001b[0;32m----> 1\u001b[0m cky(s)\n",
      "Cell \u001b[0;32mIn [359], line 27\u001b[0m, in \u001b[0;36mcky\u001b[0;34m(s)\u001b[0m\n\u001b[1;32m     25\u001b[0m \u001b[39mfor\u001b[39;00m m \u001b[39min\u001b[39;00m \u001b[39mrange\u001b[39m(kkk):\n\u001b[1;32m     26\u001b[0m     \u001b[39mfor\u001b[39;00m i \u001b[39min\u001b[39;00m \u001b[39mrange\u001b[39m(kkk):\n\u001b[0;32m---> 27\u001b[0m         k[i][kkk\u001b[39m-\u001b[39m\u001b[39m1\u001b[39m]\u001b[39m=\u001b[39mgetNumberedPairs(\u001b[39mf\u001b[39;49m\u001b[39m\"\u001b[39;49m\u001b[39m{\u001b[39;49;00mi\u001b[39m}\u001b[39;49;00m\u001b[39m{\u001b[39;49;00mkkk\u001b[39m}\u001b[39;49;00m\u001b[39m\"\u001b[39;49m,k)\n\u001b[1;32m     28\u001b[0m     kkk\u001b[39m-\u001b[39m\u001b[39m=\u001b[39m\u001b[39m1\u001b[39m\n\u001b[1;32m     29\u001b[0m printMatrix(k)\n",
      "Cell \u001b[0;32mIn [358], line 8\u001b[0m, in \u001b[0;36mgetNumberedPairs\u001b[0;34m(a, k)\u001b[0m\n\u001b[1;32m      6\u001b[0m \u001b[39m# printMatrix(k)\u001b[39;00m\n\u001b[1;32m      7\u001b[0m \u001b[39mfor\u001b[39;00m m \u001b[39min\u001b[39;00m \u001b[39mrange\u001b[39m(j):\n\u001b[0;32m----> 8\u001b[0m     gg\u001b[39m=\u001b[39mgetNonTerminalRule(k[i][m],k[m\u001b[39m+\u001b[39m\u001b[39m1\u001b[39m][j\u001b[39m-\u001b[39mm\u001b[39m-\u001b[39m\u001b[39m1\u001b[39m])\n\u001b[1;32m      9\u001b[0m     \u001b[39mprint\u001b[39m(k[i][m],k[m\u001b[39m+\u001b[39m\u001b[39m1\u001b[39m][j\u001b[39m-\u001b[39mm\u001b[39m-\u001b[39m\u001b[39m1\u001b[39m])\n\u001b[1;32m     11\u001b[0m \u001b[39mreturn\u001b[39;00m kk\n",
      "\u001b[0;31mIndexError\u001b[0m: list index out of range"
     ]
    }
   ],
   "source": [
    "cky(s)"
   ]
  },
  {
   "cell_type": "code",
   "execution_count": null,
   "metadata": {},
   "outputs": [
    {
     "data": {
      "text/plain": [
       "['NP']"
      ]
     },
     "execution_count": 283,
     "metadata": {},
     "output_type": "execute_result"
    }
   ],
   "source": []
  }
 ],
 "metadata": {
  "kernelspec": {
   "display_name": "Python 3.10.6 64-bit",
   "language": "python",
   "name": "python3"
  },
  "language_info": {
   "codemirror_mode": {
    "name": "ipython",
    "version": 3
   },
   "file_extension": ".py",
   "mimetype": "text/x-python",
   "name": "python",
   "nbconvert_exporter": "python",
   "pygments_lexer": "ipython3",
   "version": "3.10.6"
  },
  "orig_nbformat": 4,
  "vscode": {
   "interpreter": {
    "hash": "e7370f93d1d0cde622a1f8e1c04877d8463912d04d973331ad4851f04de6915a"
   }
  }
 },
 "nbformat": 4,
 "nbformat_minor": 2
}
