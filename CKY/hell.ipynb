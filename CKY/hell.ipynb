{
 "cells": [
  {
   "cell_type": "code",
   "execution_count": 1,
   "metadata": {},
   "outputs": [],
   "source": [
    "# here with the help of this function we have to print the rules inside our cfg grammer \n",
    "def stringMaker(l):\n",
    "    s=\"\"\n",
    "    for i in l[1:]:\n",
    "        s=s+\" \" +str(i)\n",
    "    \n",
    "    return f\"{ l[0]} --> \"+s\n",
    "\n",
    "def printRules(l):\n",
    "    for i in l:\n",
    "        print(stringMaker(i))"
   ]
  },
  {
   "cell_type": "code",
   "execution_count": 14,
   "metadata": {},
   "outputs": [
    {
     "data": {
      "text/plain": [
       "'VERB -->  back'"
      ]
     },
     "execution_count": 14,
     "metadata": {},
     "output_type": "execute_result"
    }
   ],
   "source": [
    "stringMaker((\"VERB\",\"back\"))"
   ]
  },
  {
   "cell_type": "code",
   "execution_count": 2,
   "metadata": {},
   "outputs": [],
   "source": [
    "# lets declare some grammer rules such that we can be able to draw sentenses from themselves \n",
    "\n",
    "# firstly there are two types of states and these are terminals and non terminals\n",
    "# non terminals \n",
    "nonTerminals=[\"S\",\"NN\",\"VBP\",\"VP\",\"AUX\",\"\"]\n",
    "\n",
    "# here we are going to use the the list and the tupple in order to store the results and\n",
    "# in further step we also going to print it \n",
    "# here i will store all nonTerminals to nonTerminals rules \n",
    "ntRules=[(\"S\",\"NP\",\"VP\"),(\"S\",\"X1\",'VP'),('X1','AUX','NP'),('S','VERB','NP'),('S','X2','PP'),\n",
    "('S','VERB','PP'),('S','VP','PP'),('NP','DET','NOMIAL'),('NOMIAL','NOMIAL','NOUN'),('NOMIAL','NOMIAL','PP'),\n",
    "('VP','VERB','NP'),('VP','X2','PP'),('X2','VERB','NP'),('VP','VERB','PP'),('VP','VP','PP'),('PP',\"PREPOSITION\",\"NP\")]\n",
    "\n",
    "\n",
    "# printRules(ntRules)"
   ]
  },
  {
   "cell_type": "code",
   "execution_count": 3,
   "metadata": {},
   "outputs": [],
   "source": [
    "\n",
    "tRules=[('NP','i'),('NP',\"she\"),('NP',\"me\"),('NP',\"twa\"),(\"NP\",'houston'),('NOMIAL',\"book\"),('NOMIAL',\"flight\")\n",
    ",('NOMIAL',\"meal\"),('NOMIAL',\"money\"),('VP',\"include\"),('VP',\"prefer\"),(\"VP\",\"book\"),\n",
    "(\"Det\",'that'),('DET','this'),(\"DET\",'the'),(\"DET\",'a'),(\"AUX\",'does'),('PREPOSITION','from'),('PREPOSITION','near')\n",
    ",('PREPOSITION','to'),('PREPOSITION','through'),('PREPOSITION','on')]\n",
    "# printRules(tRules)"
   ]
  },
  {
   "cell_type": "code",
   "execution_count": 4,
   "metadata": {},
   "outputs": [],
   "source": [
    "def createMatrix(m):\n",
    "    k=0\n",
    "    l=[]\n",
    "    for i in range(m):\n",
    "        l.append([\"PHI\"]*(m-k))\n",
    "        k=k+1\n",
    "    return l"
   ]
  },
  {
   "cell_type": "code",
   "execution_count": 5,
   "metadata": {},
   "outputs": [],
   "source": [
    "def printMatrix(m):\n",
    "    s=len(m[0])\n",
    "    k=0\n",
    "    for i in m:\n",
    "        print(str(i))\n",
    "        k=k+1"
   ]
  },
  {
   "cell_type": "code",
   "execution_count": 15,
   "metadata": {},
   "outputs": [
    {
     "name": "stdout",
     "output_type": "stream",
     "text": [
      "['PHI', 'PHI', 'PHI', 'PHI']\n",
      "['PHI', 'PHI', 'PHI']\n",
      "['PHI', 'PHI']\n",
      "['PHI']\n"
     ]
    }
   ],
   "source": [
    "a=createMatrix(4)\n",
    "printMatrix(a)"
   ]
  },
  {
   "cell_type": "code",
   "execution_count": 6,
   "metadata": {},
   "outputs": [],
   "source": [
    "def getTerminalRule(word):\n",
    "    k=[]\n",
    "    for i in tRules:\n",
    "        if(i[1]==word):\n",
    "            k.append(i[0])\n",
    "    return k\n"
   ]
  },
  {
   "cell_type": "code",
   "execution_count": 7,
   "metadata": {},
   "outputs": [],
   "source": [
    "def getNonTerminalRule(a,b):\n",
    "    k=[]\n",
    "    if a==[] or b==[]:\n",
    "        return []\n",
    "    for i in ntRules:\n",
    "        if i[1] in a and i[2] in b:\n",
    "            k.append(i[0])\n",
    "    return k\n"
   ]
  },
  {
   "cell_type": "code",
   "execution_count": 8,
   "metadata": {},
   "outputs": [],
   "source": [
    "def getNonTerminalRule(a,b):\n",
    "    k=[]\n",
    "    if a==[] or b==[]:\n",
    "        return []\n",
    "    for i in ntRules:\n",
    "        if i[1] in a and i[2] in b:\n",
    "            k.append(i[0])\n",
    "    return k"
   ]
  },
  {
   "cell_type": "code",
   "execution_count": 16,
   "metadata": {},
   "outputs": [
    {
     "data": {
      "text/plain": [
       "['S']"
      ]
     },
     "execution_count": 16,
     "metadata": {},
     "output_type": "execute_result"
    }
   ],
   "source": [
    "getNonTerminalRule(\"NP\",\"VP\")"
   ]
  },
  {
   "cell_type": "code",
   "execution_count": 9,
   "metadata": {},
   "outputs": [],
   "source": [
    "def getNumberedPairs(a,k):\n",
    "    i=int(a[0])\n",
    "    j=int(a[1])\n",
    "    # print(i,j)\n",
    "    kk=[]\n",
    "    # printMatrix(k)\n",
    "    for m in range(j):\n",
    "        gg=getNonTerminalRule(k[i][m],k[m+1][j-m-1])\n",
    "        kk=kk+[gg]\n",
    "    return kk\n"
   ]
  },
  {
   "cell_type": "code",
   "execution_count": 10,
   "metadata": {},
   "outputs": [],
   "source": [
    "def find(a):\n",
    "    for i in a:\n",
    "        for j in range(len(i)):\n",
    "            if i[j]==\"S\":\n",
    "                return True\n",
    "    return False\n"
   ]
  },
  {
   "cell_type": "code",
   "execution_count": 17,
   "metadata": {},
   "outputs": [],
   "source": [
    "s=\"she book flight meal through book money include\"\n",
    "# s=\"she on through\" \n",
    "s=s.lower()\n",
    "def cky(s):\n",
    "    gg=s.split(\" \")\n",
    "    print(gg)\n",
    "    k=createMatrix(len(gg))\n",
    "    # printMatrix(k)\n",
    "    m=0\n",
    "    print('')\n",
    "    # assigning initial rules \n",
    "    for i in k:\n",
    "        i[0]=getTerminalRule(gg[m])\n",
    "        m+=1\n",
    "    # printMatrix(k)\n",
    "    \n",
    "    kk=len(gg)\n",
    "    jj=0\n",
    "    f=False\n",
    "    if(find(k)):\n",
    "        return True\n",
    "    while (kk!=-1):\n",
    "        # print()\n",
    "        ss=0\n",
    "        for i in k[:kk]:\n",
    "            \n",
    "            if i[jj]==\"PHI\":\n",
    "                i[jj]=getNumberedPairs(f\"{ss}{jj}\",k)\n",
    "                if(find(i[jj])):\n",
    "                    f=True\n",
    "            ss+=1\n",
    "        # print(\"\")\n",
    "        kk=kk-1\n",
    "        jj+=1\n",
    "    # print(k.index(\"S\"))\n",
    "    printMatrix(k)\n",
    "    if f:\n",
    "        return True\n",
    "    return False\n",
    "    k"
   ]
  },
  {
   "cell_type": "code",
   "execution_count": 24,
   "metadata": {},
   "outputs": [
    {
     "name": "stdout",
     "output_type": "stream",
     "text": [
      "['she', 'book', 'flight', 'through', 'houston']\n",
      "\n",
      "[['NP'], [['S']], [[], []], [[], [], []], [[], [], [], []]]\n",
      "[['NOMIAL', 'VP'], [[]], [[], []], [[], [], []]]\n",
      "[['NOMIAL'], [[]], [[], []]]\n",
      "[['PREPOSITION'], [[]]]\n",
      "[['NP']]\n"
     ]
    },
    {
     "data": {
      "text/plain": [
       "True"
      ]
     },
     "execution_count": 24,
     "metadata": {},
     "output_type": "execute_result"
    }
   ],
   "source": [
    "s=\"she book flight through houston\" \n",
    "cky(s)"
   ]
  }
 ],
 "metadata": {
  "kernelspec": {
   "display_name": "Python 3.10.6 64-bit",
   "language": "python",
   "name": "python3"
  },
  "language_info": {
   "codemirror_mode": {
    "name": "ipython",
    "version": 3
   },
   "file_extension": ".py",
   "mimetype": "text/x-python",
   "name": "python",
   "nbconvert_exporter": "python",
   "pygments_lexer": "ipython3",
   "version": "3.10.6"
  },
  "orig_nbformat": 4,
  "vscode": {
   "interpreter": {
    "hash": "e7370f93d1d0cde622a1f8e1c04877d8463912d04d973331ad4851f04de6915a"
   }
  }
 },
 "nbformat": 4,
 "nbformat_minor": 2
}
